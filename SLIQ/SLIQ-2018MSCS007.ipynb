{
 "cells": [
  {
   "cell_type": "markdown",
   "metadata": {},
   "source": [
    "## SLIQ"
   ]
  },
  {
   "cell_type": "code",
   "execution_count": 2,
   "metadata": {},
   "outputs": [],
   "source": [
    "import pandas as pd\n",
    "import numpy as np\n",
    "from ipynb.fs.full.algorithm_u import algorithm_u\n",
    "from collections import Counter\n",
    "eps = np.finfo(float).eps\n",
    "from numpy import log2 as log"
   ]
  },
  {
   "cell_type": "code",
   "execution_count": 4,
   "metadata": {},
   "outputs": [
    {
     "data": {
      "text/html": [
       "<div>\n",
       "<style>\n",
       "    .dataframe thead tr:only-child th {\n",
       "        text-align: right;\n",
       "    }\n",
       "\n",
       "    .dataframe thead th {\n",
       "        text-align: left;\n",
       "    }\n",
       "\n",
       "    .dataframe tbody tr th {\n",
       "        vertical-align: top;\n",
       "    }\n",
       "</style>\n",
       "<table border=\"1\" class=\"dataframe\">\n",
       "  <thead>\n",
       "    <tr style=\"text-align: right;\">\n",
       "      <th></th>\n",
       "      <th>rid</th>\n",
       "      <th>age</th>\n",
       "      <th>salary</th>\n",
       "      <th>marital</th>\n",
       "      <th>car</th>\n",
       "    </tr>\n",
       "  </thead>\n",
       "  <tbody>\n",
       "    <tr>\n",
       "      <th>0</th>\n",
       "      <td>1</td>\n",
       "      <td>30</td>\n",
       "      <td>60</td>\n",
       "      <td>single</td>\n",
       "      <td>sports</td>\n",
       "    </tr>\n",
       "    <tr>\n",
       "      <th>1</th>\n",
       "      <td>2</td>\n",
       "      <td>25</td>\n",
       "      <td>20</td>\n",
       "      <td>single</td>\n",
       "      <td>mini</td>\n",
       "    </tr>\n",
       "    <tr>\n",
       "      <th>2</th>\n",
       "      <td>3</td>\n",
       "      <td>40</td>\n",
       "      <td>80</td>\n",
       "      <td>married</td>\n",
       "      <td>van</td>\n",
       "    </tr>\n",
       "    <tr>\n",
       "      <th>3</th>\n",
       "      <td>4</td>\n",
       "      <td>45</td>\n",
       "      <td>100</td>\n",
       "      <td>single</td>\n",
       "      <td>luxury</td>\n",
       "    </tr>\n",
       "    <tr>\n",
       "      <th>4</th>\n",
       "      <td>5</td>\n",
       "      <td>60</td>\n",
       "      <td>150</td>\n",
       "      <td>married</td>\n",
       "      <td>luxury</td>\n",
       "    </tr>\n",
       "    <tr>\n",
       "      <th>5</th>\n",
       "      <td>6</td>\n",
       "      <td>35</td>\n",
       "      <td>120</td>\n",
       "      <td>single</td>\n",
       "      <td>sports</td>\n",
       "    </tr>\n",
       "    <tr>\n",
       "      <th>6</th>\n",
       "      <td>7</td>\n",
       "      <td>50</td>\n",
       "      <td>70</td>\n",
       "      <td>married</td>\n",
       "      <td>van</td>\n",
       "    </tr>\n",
       "    <tr>\n",
       "      <th>7</th>\n",
       "      <td>8</td>\n",
       "      <td>55</td>\n",
       "      <td>90</td>\n",
       "      <td>single</td>\n",
       "      <td>sports</td>\n",
       "    </tr>\n",
       "    <tr>\n",
       "      <th>8</th>\n",
       "      <td>9</td>\n",
       "      <td>65</td>\n",
       "      <td>30</td>\n",
       "      <td>married</td>\n",
       "      <td>mini</td>\n",
       "    </tr>\n",
       "    <tr>\n",
       "      <th>9</th>\n",
       "      <td>10</td>\n",
       "      <td>70</td>\n",
       "      <td>200</td>\n",
       "      <td>single</td>\n",
       "      <td>luxury</td>\n",
       "    </tr>\n",
       "  </tbody>\n",
       "</table>\n",
       "</div>"
      ],
      "text/plain": [
       "   rid  age  salary  marital     car\n",
       "0    1   30      60   single  sports\n",
       "1    2   25      20   single    mini\n",
       "2    3   40      80  married     van\n",
       "3    4   45     100   single  luxury\n",
       "4    5   60     150  married  luxury\n",
       "5    6   35     120   single  sports\n",
       "6    7   50      70  married     van\n",
       "7    8   55      90   single  sports\n",
       "8    9   65      30  married    mini\n",
       "9   10   70     200   single  luxury"
      ]
     },
     "execution_count": 4,
     "metadata": {},
     "output_type": "execute_result"
    }
   ],
   "source": [
    "df = pd.read_csv('sliq.csv')\n",
    "df"
   ]
  },
  {
   "cell_type": "code",
   "execution_count": 77,
   "metadata": {},
   "outputs": [],
   "source": [
    "def entropy(df):\n",
    "    entropy_node = 0\n",
    "    lastcol = df.iloc[:,-1]\n",
    "    values = lastcol.unique() \n",
    "    for value in values:\n",
    "        fraction = lastcol.value_counts()[value]/len(lastcol)  \n",
    "        entropy_node += -fraction*np.log2(fraction)\n",
    "    return entropy_node"
   ]
  },
  {
   "cell_type": "code",
   "execution_count": 78,
   "metadata": {},
   "outputs": [
    {
     "data": {
      "text/plain": [
       "1.9709505944546688"
      ]
     },
     "execution_count": 78,
     "metadata": {},
     "output_type": "execute_result"
    }
   ],
   "source": [
    "entropy(df)"
   ]
  },
  {
   "cell_type": "code",
   "execution_count": 75,
   "metadata": {},
   "outputs": [],
   "source": [
    "def attribute_entropy(df,i):\n",
    "    attribute = i\n",
    "    lastcol = df.iloc[:,-1]\n",
    "    target_variables = lastcol.unique()\n",
    "    variables = df[attribute].unique() \n",
    "    entropy_attribute = 0\n",
    "    for variable in variables:\n",
    "        entropy_each_feature = 0\n",
    "        for target_variable in target_variables:\n",
    "            numerator = len(df[attribute][df[attribute]==variable][lastcol ==target_variable])\n",
    "            denominator = len(df[attribute][df[attribute]==variable])\n",
    "            fraction = numerator/(denominator+eps)  #pi\n",
    "            entropy_each_feature += -fraction*log(fraction+eps)\n",
    "        fraction2 = denominator/len(df)\n",
    "        entropy_attribute += -fraction2*entropy_each_feature \n",
    "    return entropy_attribute"
   ]
  },
  {
   "cell_type": "code",
   "execution_count": 76,
   "metadata": {},
   "outputs": [
    {
     "name": "stdout",
     "output_type": "stream",
     "text": [
      "age 0.0\n",
      "salary 0.0\n",
      "marital -1.4754887502163458\n"
     ]
    }
   ],
   "source": [
    "attribute_list = df.iloc[:, 1:4]\n",
    "attribute_list\n",
    "\n",
    "for i in attribute_list:\n",
    "    print(i, attribute_entropy(df,i))"
   ]
  },
  {
   "cell_type": "code",
   "execution_count": 14,
   "metadata": {},
   "outputs": [],
   "source": [
    "def info_gain(df):\n",
    "    Entropy_att = []\n",
    "    IG = []\n",
    "    for key in df.keys()[:-1]:\n",
    "        IG.append(entropy(df)-attribute_entropy(df,key))\n",
    "    return df.keys()[:-1][np.argmax(IG)]"
   ]
  },
  {
   "cell_type": "code",
   "execution_count": 15,
   "metadata": {},
   "outputs": [
    {
     "data": {
      "text/plain": [
       "'marital'"
      ]
     },
     "execution_count": 15,
     "metadata": {},
     "output_type": "execute_result"
    }
   ],
   "source": [
    "info_gain(df)"
   ]
  },
  {
   "cell_type": "code",
   "execution_count": 251,
   "metadata": {},
   "outputs": [],
   "source": [
    "def attribute_lists():\n",
    "    age_attr_list = df[['rid', 'age']].sort_values(by=['age'])\n",
    "    salary_attr_list = df[['rid', 'salary']].sort_values(by=['salary'])\n",
    "    marital_attr_list = df[['rid', 'marital']].sort_values(by=['marital'])\n",
    "    class_attr_list = df[['rid', 'car']].sort_values(by=['car'])"
   ]
  },
  {
   "cell_type": "code",
   "execution_count": 260,
   "metadata": {},
   "outputs": [
    {
     "name": "stdout",
     "output_type": "stream",
     "text": [
      "['luxury' 'mini' 'sports' 'van'] [3 2 3 2]\n"
     ]
    }
   ],
   "source": [
    "class_attribute_list = df['car']\n",
    "unique_class_values, unique_class_count = np.unique(class_attribute_list, return_counts=True)\n",
    "print(unique_class_values, unique_class_count)"
   ]
  },
  {
   "cell_type": "code",
   "execution_count": 261,
   "metadata": {},
   "outputs": [
    {
     "name": "stdout",
     "output_type": "stream",
     "text": [
      "    class  right\n",
      "0  luxury      3\n",
      "1    mini      2\n",
      "2  sports      3\n",
      "3     van      2\n"
     ]
    }
   ],
   "source": [
    "dat = pd.DataFrame(unique_class_values)\n",
    "dat.columns = [\"class\"]\n",
    "\n",
    "right = unique_class_count\n",
    "dat['right'] = right \n",
    "print(dat)"
   ]
  },
  {
   "cell_type": "code",
   "execution_count": 262,
   "metadata": {},
   "outputs": [],
   "source": [
    "def histogram():\n",
    "    left = []\n",
    "    right = []\n",
    "    for j, jrow in age_attr_list.iterrows():\n",
    "        if jrow['age'] <= 30:\n",
    "            for index, row in class_attr_list.iterrows():\n",
    "                if j == index:\n",
    "                    for k, krow in dat.iterrows():\n",
    "                        if row['car'] == krow['class']:\n",
    "                            dat.loc[dat.index[k], 'Left'] = 1\n",
    "                            dat.at[k,'right']= krow['right'] - 1\n",
    "    return dat"
   ]
  },
  {
   "cell_type": "code",
   "execution_count": 263,
   "metadata": {},
   "outputs": [
    {
     "data": {
      "text/html": [
       "<div>\n",
       "<style>\n",
       "    .dataframe thead tr:only-child th {\n",
       "        text-align: right;\n",
       "    }\n",
       "\n",
       "    .dataframe thead th {\n",
       "        text-align: left;\n",
       "    }\n",
       "\n",
       "    .dataframe tbody tr th {\n",
       "        vertical-align: top;\n",
       "    }\n",
       "</style>\n",
       "<table border=\"1\" class=\"dataframe\">\n",
       "  <thead>\n",
       "    <tr style=\"text-align: right;\">\n",
       "      <th></th>\n",
       "      <th>class</th>\n",
       "      <th>right</th>\n",
       "      <th>Left</th>\n",
       "    </tr>\n",
       "  </thead>\n",
       "  <tbody>\n",
       "    <tr>\n",
       "      <th>0</th>\n",
       "      <td>luxury</td>\n",
       "      <td>3</td>\n",
       "      <td>NaN</td>\n",
       "    </tr>\n",
       "    <tr>\n",
       "      <th>1</th>\n",
       "      <td>mini</td>\n",
       "      <td>1</td>\n",
       "      <td>1.0</td>\n",
       "    </tr>\n",
       "    <tr>\n",
       "      <th>2</th>\n",
       "      <td>sports</td>\n",
       "      <td>2</td>\n",
       "      <td>1.0</td>\n",
       "    </tr>\n",
       "    <tr>\n",
       "      <th>3</th>\n",
       "      <td>van</td>\n",
       "      <td>2</td>\n",
       "      <td>NaN</td>\n",
       "    </tr>\n",
       "  </tbody>\n",
       "</table>\n",
       "</div>"
      ],
      "text/plain": [
       "    class  right  Left\n",
       "0  luxury      3   NaN\n",
       "1    mini      1   1.0\n",
       "2  sports      2   1.0\n",
       "3     van      2   NaN"
      ]
     },
     "execution_count": 263,
     "metadata": {},
     "output_type": "execute_result"
    }
   ],
   "source": [
    "histogram()"
   ]
  },
  {
   "cell_type": "code",
   "execution_count": 264,
   "metadata": {},
   "outputs": [],
   "source": [
    "def histo():\n",
    "    left = []\n",
    "    right = []\n",
    "    for j, jrow in salary_attr_list.iterrows():\n",
    "        if jrow['salary'] <= 60:\n",
    "            for index, row in class_attr_list.iterrows():\n",
    "                if j == index:\n",
    "                    for k, krow in dat.iterrows():\n",
    "                        if row['car'] == krow['class']:\n",
    "                            dat.loc[dat.index[k], 'Left'] = 1\n",
    "                            dat.at[k,'right']= krow['right'] - 1\n",
    "    \n",
    "    return dat"
   ]
  },
  {
   "cell_type": "code",
   "execution_count": 265,
   "metadata": {},
   "outputs": [
    {
     "data": {
      "text/html": [
       "<div>\n",
       "<style>\n",
       "    .dataframe thead tr:only-child th {\n",
       "        text-align: right;\n",
       "    }\n",
       "\n",
       "    .dataframe thead th {\n",
       "        text-align: left;\n",
       "    }\n",
       "\n",
       "    .dataframe tbody tr th {\n",
       "        vertical-align: top;\n",
       "    }\n",
       "</style>\n",
       "<table border=\"1\" class=\"dataframe\">\n",
       "  <thead>\n",
       "    <tr style=\"text-align: right;\">\n",
       "      <th></th>\n",
       "      <th>class</th>\n",
       "      <th>right</th>\n",
       "      <th>Left</th>\n",
       "    </tr>\n",
       "  </thead>\n",
       "  <tbody>\n",
       "    <tr>\n",
       "      <th>0</th>\n",
       "      <td>luxury</td>\n",
       "      <td>3</td>\n",
       "      <td>NaN</td>\n",
       "    </tr>\n",
       "    <tr>\n",
       "      <th>1</th>\n",
       "      <td>mini</td>\n",
       "      <td>-1</td>\n",
       "      <td>1.0</td>\n",
       "    </tr>\n",
       "    <tr>\n",
       "      <th>2</th>\n",
       "      <td>sports</td>\n",
       "      <td>1</td>\n",
       "      <td>1.0</td>\n",
       "    </tr>\n",
       "    <tr>\n",
       "      <th>3</th>\n",
       "      <td>van</td>\n",
       "      <td>2</td>\n",
       "      <td>NaN</td>\n",
       "    </tr>\n",
       "  </tbody>\n",
       "</table>\n",
       "</div>"
      ],
      "text/plain": [
       "    class  right  Left\n",
       "0  luxury      3   NaN\n",
       "1    mini     -1   1.0\n",
       "2  sports      1   1.0\n",
       "3     van      2   NaN"
      ]
     },
     "execution_count": 265,
     "metadata": {},
     "output_type": "execute_result"
    }
   ],
   "source": [
    "histo()"
   ]
  },
  {
   "cell_type": "code",
   "execution_count": 246,
   "metadata": {},
   "outputs": [],
   "source": [
    "def split_atribute(leaflist):\n",
    "    print(\"leaflist: \", leaflist)\n",
    "    last = leaflist[0][0]\n",
    "    e_index = -1\n",
    "    index = -1\n",
    "    best_index = 0\n",
    "    best_gini = 2\n",
    "    best_entropy = 2\n",
    "    best_entropy_index = 0\n",
    "    for value in leaflist:  # for every unique value\n",
    "        index += 1\n",
    "        e_index += 1\n",
    "        if value[0] != last:\n",
    "            last = value[0]\n",
    "            right = leaflist[index:]\n",
    "            left = leaflist[0:index]\n",
    "            gini = calculate_gini_split(left, right, dictrid)\n",
    "            entrop = calculate_overall_entropy(left, right)\n",
    "            if best_gini > gini:\n",
    "                best_gini = gini\n",
    "                best_index = index\n",
    "\n",
    "    print(\"\\n Best gini: \", best_gini)\n",
    "    return best_gini, leaflist[best_index][0]"
   ]
  },
  {
   "cell_type": "code",
   "execution_count": 273,
   "metadata": {},
   "outputs": [],
   "source": [
    "def choose_split(leafset, dataset, depth):\n",
    "    best = 2\n",
    "    best_split = 0\n",
    "    best_list = []\n",
    "    column_index = -1\n",
    "    best_column_index = 0\n",
    "    listij = []\n",
    "    for list in dataset:  \n",
    "        column_index += 1\n",
    "        \n",
    "        for item in list:\n",
    "            for j in leaf:\n",
    "                if item == j:\n",
    "                    listij.append([item,(item-1)])\n",
    "        \n",
    "    leaf_list = listij\n",
    "    for list in dataset:  \n",
    "        column_index += 1\n",
    "        listij2 = []\n",
    "        for item in list:\n",
    "            for j in leaf:\n",
    "                if item == j:\n",
    "                    listij2.append([item,(item)])\n",
    "        \n",
    "        \n",
    "        temp, split = split_atribute(leaf_list)\n",
    "\n",
    "        if best > temp:  \n",
    "            best = temp\n",
    "            best_split = split\n",
    "            best_column_index = column_index\n",
    "            best_list = leaf_list\n",
    "        if temp == 0:  \n",
    "            break\n",
    "            \n",
    "    print(\"best split: \", best_split)\n",
    "    print(\"best list: \", best_list)\n",
    "    print(\"best column index: \", best_column_index)"
   ]
  },
  {
   "cell_type": "code",
   "execution_count": 306,
   "metadata": {},
   "outputs": [
    {
     "name": "stdout",
     "output_type": "stream",
     "text": [
      "dataset [[1, 30, 60, 'single', 'sports'], [2, 25, 20, 'single', 'mini'], [3, 40, 80, 'married', 'van'], [4, 45, 100, 'single', 'luxury'], [5, 60, 150, 'married', 'luxury'], [6, 35, 120, 'single', 'sports'], [7, 50, 70, 'married', 'van'], [8, 55, 90, 'single', 'sports'], [9, 65, 30, 'married', 'mini'], [10, 70, 200, 'single', 'luxury']]\n",
      "\n",
      " ridl [1, 2, 3, 4, 5, 6, 7, 8, 9, 10]\n",
      "\n",
      " leaf:  {0, 1, 2, 3, 4, 5, 6, 7, 8, 9}\n",
      "leaflist:  [[1, 0], [2, 1], [3, 2], [4, 3], [5, 4], [6, 5], [7, 6], [8, 7], [9, 8]]\n",
      "\n",
      " Best gini:  0.0\n",
      "best split:  2\n",
      "best list:  [[1, 0], [2, 1], [3, 2], [4, 3], [5, 4], [6, 5], [7, 6], [8, 7], [9, 8]]\n",
      "best column index:  10\n"
     ]
    }
   ],
   "source": [
    "dataset = df.values.tolist()\n",
    "print(\"dataset\", dataset)\n",
    "\n",
    "ridl = df.iloc[:, 0].tolist()\n",
    "print(\"\\n ridl\", ridl)\n",
    "\n",
    "leaf = {item for item in range(0, len(ridl))}\n",
    "print(\"\\n leaf: \", leaf)\n",
    "\n",
    " # create a dictionary for the labels\n",
    "length = len(df)\n",
    "num_cols = len(df.columns)\n",
    "dictrid = dict()\n",
    "for index in range(length):\n",
    "    dictrid.update({index: df[df.columns[num_cols - 1]].iloc[index]})\n",
    "\n",
    "choose_split(leaf, dataset, 1)\n"
   ]
  },
  {
   "cell_type": "code",
   "execution_count": 302,
   "metadata": {},
   "outputs": [],
   "source": [
    "def calculate_gini_split(leaflist_left, leaflist_right, classlist):\n",
    "    n_left = len(leaflist_left)\n",
    "    n_right = len(leaflist_right)\n",
    "\n",
    "    if n_left == 0 or n_right == 0:  # check for empty lists\n",
    "        return 2\n",
    "\n",
    "    n = n_left + n_right\n",
    "    positive_left = 0.0\n",
    "    positive_right = 0.0\n",
    "\n",
    "    for item in leaflist_left:\n",
    "        if classlist[item[1]] == 1:\n",
    "            positive_left += 1\n",
    "\n",
    "    for item in leaflist_right:\n",
    "        if classlist[item[1]] == 1:\n",
    "            positive_right += 1\n",
    "\n",
    "    neg_a = n_left - positive_left\n",
    "    neg_b = n_right - positive_right\n",
    "    gini_a = 1 - float((positive_left * positive_left + neg_a * neg_a) / (n_left * n_left))\n",
    "    gini_b = 1 - float((positive_right * positive_right + neg_b * neg_b) / (n_right * n_right))\n",
    "    return (n_left / n) * gini_a + (n_right / n) * gini_b"
   ]
  },
  {
   "cell_type": "code",
   "execution_count": null,
   "metadata": {},
   "outputs": [],
   "source": []
  }
 ],
 "metadata": {
  "kernelspec": {
   "display_name": "Python 3",
   "language": "python",
   "name": "python3"
  },
  "language_info": {
   "codemirror_mode": {
    "name": "ipython",
    "version": 3
   },
   "file_extension": ".py",
   "mimetype": "text/x-python",
   "name": "python",
   "nbconvert_exporter": "python",
   "pygments_lexer": "ipython3",
   "version": "3.6.8"
  }
 },
 "nbformat": 4,
 "nbformat_minor": 2
}
