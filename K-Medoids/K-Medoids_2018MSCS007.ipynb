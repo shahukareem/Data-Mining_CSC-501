{
 "cells": [
  {
   "cell_type": "markdown",
   "metadata": {},
   "source": [
    "# Implementing K-Medoids"
   ]
  },
  {
   "cell_type": "code",
   "execution_count": 322,
   "metadata": {},
   "outputs": [],
   "source": [
    "import pandas as pd\n",
    "import numpy as np\n",
    "import matplotlib.pyplot as plt\n",
    "%matplotlib inline\n",
    "import copy"
   ]
  },
  {
   "cell_type": "code",
   "execution_count": 323,
   "metadata": {},
   "outputs": [],
   "source": [
    "#LOADING DATA\n",
    "df = pd.read_csv('IPL.csv')\n",
    "df = df.rename(columns={\"one\": \"x\", \"two\": \"y\"})"
   ]
  },
  {
   "cell_type": "code",
   "execution_count": 324,
   "metadata": {},
   "outputs": [
    {
     "name": "stdout",
     "output_type": "stream",
     "text": [
      "[[0.97918822 0.07715065]\n",
      " [0.50457661 0.55311441]\n",
      " [0.0581324  0.52809798]\n",
      " [0.77534302 0.21792169]\n",
      " [0.55042383 0.47085982]]\n"
     ]
    }
   ],
   "source": [
    "#DATAFRAME TO LIST\n",
    "data = df.values\n",
    "\n",
    "#DISPLAYING TOP ROWS\n",
    "rows = data[1:6, :]\n",
    "print(rows)"
   ]
  },
  {
   "cell_type": "code",
   "execution_count": 325,
   "metadata": {},
   "outputs": [
    {
     "data": {
      "image/png": "[encoded data removed]",
      "text/plain": [
       "<Figure size 432x288 with 1 Axes>"
      ]
     },
     "metadata": {
      "needs_background": "light"
     },
     "output_type": "display_data"
    }
   ],
   "source": [
    "#INITIAL PLOT\n",
    "plt.scatter(*zip(*data)) \n",
    "plt.show()"
   ]
  },
  {
   "cell_type": "code",
   "execution_count": 437,
   "metadata": {},
   "outputs": [],
   "source": [
    "medoids = list()\n",
    "k = 3\n",
    "iterations = 40\n",
    "used_ids = set()\n",
    "def initialization():\n",
    "    np.random.seed(20)\n",
    "\n",
    "    for i in range(k):\n",
    "        rand_items = np.random.randint(len(data))\n",
    "        while rand_items in used_ids:\n",
    "            rand_items = np.random.randint(len(data))\n",
    "        used_ids.add(rand_items)\n",
    "        medoids.append(data[rand_items])\n",
    "\n",
    "    print(\"medoids: \", medoids)\n",
    "\n",
    "    return medoids"
   ]
  },
  {
   "cell_type": "code",
   "execution_count": 438,
   "metadata": {},
   "outputs": [
    {
     "name": "stdout",
     "output_type": "stream",
     "text": [
      "medoids:  [array([0.08497508, 0.99112246]), array([0.92022078, 0.22637577]), array([0.01850393, 0.88652292])]\n"
     ]
    },
    {
     "data": {
      "text/plain": [
       "[array([0.08497508, 0.99112246]),\n",
       " array([0.92022078, 0.22637577]),\n",
       " array([0.01850393, 0.88652292])]"
      ]
     },
     "execution_count": 438,
     "metadata": {},
     "output_type": "execute_result"
    }
   ],
   "source": [
    "initialization()"
   ]
  },
  {
   "cell_type": "code",
   "execution_count": 439,
   "metadata": {},
   "outputs": [],
   "source": [
    "def Euclidean_distance(x1, x2, y1, y2):\n",
    "\n",
    "    squared_distance = 0\n",
    "\n",
    "    squared_distance = (x1 - x2)**2 + (y1 - y2)**2\n",
    "\n",
    "    ed = np.sqrt(squared_distance)\n",
    "\n",
    "    return ed;"
   ]
  },
  {
   "cell_type": "code",
   "execution_count": 440,
   "metadata": {},
   "outputs": [],
   "source": [
    "def get_distance(data,medoids):\n",
    "    distance = []\n",
    "    for i in data:\n",
    "        d2=[]\n",
    "        for j in medoids:\n",
    "            dis= Euclidean_distance(i[0],j[0],i[1],j[1])\n",
    "            d2.append(dis)\n",
    "        distance.append(d2)\n",
    "    return distance"
   ]
  },
  {
   "cell_type": "code",
   "execution_count": 441,
   "metadata": {},
   "outputs": [
    {
     "name": "stdout",
     "output_type": "stream",
     "text": [
      "data:  [[2.27679824e-01 8.58204148e-01]\n",
      " [9.79188216e-01 7.71506500e-02]\n",
      " [5.04576605e-01 5.53114414e-01]\n",
      " [5.81324010e-02 5.28097980e-01]\n",
      " [7.75343018e-01 2.17921690e-01]\n",
      " [5.50423831e-01 4.70859815e-01]\n",
      " [4.57865400e-02 9.18578950e-01]\n",
      " [5.85769942e-01 5.80322550e-02]\n",
      " [7.09072174e-01 5.81873662e-01]\n",
      " [1.85039300e-02 8.86522919e-01]\n",
      " [8.86065074e-01 2.39564016e-01]\n",
      " [6.03638732e-01 6.65583852e-01]\n",
      " [6.94229840e-02 8.58127672e-01]\n",
      " [6.04738741e-01 2.78109585e-01]\n",
      " [7.58989122e-01 5.12026775e-01]\n",
      " [8.49750790e-02 9.91122460e-01]\n",
      " [6.44285855e-01 1.07302113e-01]\n",
      " [6.03312586e-01 5.36479261e-01]\n",
      " [3.56326820e-02 5.87473821e-01]\n",
      " [6.00717946e-01 4.65607000e-02]\n",
      " [6.43430505e-01 4.64619821e-01]\n",
      " [5.59105700e-03 7.32527695e-01]\n",
      " [6.57500448e-01 5.02519910e-02]\n",
      " [6.11905662e-01 4.95265641e-01]\n",
      " [1.34451980e-02 5.01685431e-01]\n",
      " [7.43527346e-01 6.38661230e-02]\n",
      " [6.46466202e-01 7.14836519e-01]\n",
      " [2.94408193e-01 6.98651842e-01]\n",
      " [9.20220777e-01 2.26375771e-01]\n",
      " [6.08679544e-01 4.78632477e-01]\n",
      " [1.75185800e-03 5.71793192e-01]\n",
      " [5.07775850e-01 2.95228405e-01]\n",
      " [7.79137492e-01 4.91806669e-01]\n",
      " [3.07831495e-01 8.87337401e-01]\n",
      " [7.58128996e-01 1.97086121e-01]\n",
      " [5.48605936e-01 5.07793605e-01]\n",
      " [7.52723310e-02 5.22245376e-01]\n",
      " [5.33112866e-01 2.14393872e-01]\n",
      " [4.67501493e-01 5.27103587e-01]\n",
      " [1.86767816e-01 5.07009498e-01]\n",
      " [8.42013242e-01 2.14905234e-01]\n",
      " [6.42154431e-01 6.34812738e-01]\n",
      " [5.20019370e-02 9.35927717e-01]\n",
      " [8.14834830e-01 1.61921640e-01]\n",
      " [6.94379968e-01 5.57075990e-01]\n",
      " [6.50855410e-02 9.57882558e-01]\n",
      " [5.26030561e-01 1.11681623e-01]\n",
      " [5.03278060e-01 7.50835987e-01]\n",
      " [1.43422603e-01 6.91155027e-01]\n",
      " [8.63144558e-01 6.98828800e-02]\n",
      " [6.64099053e-01 7.73062420e-01]\n",
      " [9.88377820e-02 6.26110358e-01]\n",
      " [7.09934617e-01 1.78505620e-01]\n",
      " [6.99001263e-01 5.98153537e-01]\n",
      " [2.83690007e-01 8.00106867e-01]\n",
      " [9.35025063e-01 1.64910079e-01]\n",
      " [5.71004309e-01 6.32747354e-01]\n",
      " [2.18856080e-01 9.11290573e-01]\n",
      " [6.29458379e-01 2.70982317e-01]\n",
      " [7.11909883e-01 4.53415545e-01]\n",
      " [2.13261076e-01 6.73521946e-01]\n",
      " [8.09229279e-01 2.91985185e-01]\n",
      " [6.89320776e-01 6.68715147e-01]\n",
      " [7.12644000e-03 9.25599275e-01]\n",
      " [5.61642009e-01 1.50842396e-01]\n",
      " [6.22206026e-01 5.61721911e-01]\n",
      " [2.59486565e-01 5.63451806e-01]\n",
      " [5.11887182e-01 5.15565000e-04]\n",
      " [4.69270639e-01 5.10032361e-01]\n",
      " [1.57558520e-01 7.98329111e-01]\n",
      " [7.04470781e-01 2.67331864e-01]\n",
      " [5.46318151e-01 5.17105961e-01]\n",
      " [1.11196965e-01 8.09609181e-01]\n",
      " [5.62543790e-01 1.66664683e-01]\n",
      " [4.91551999e-01 6.39878407e-01]\n",
      " [1.65837906e-01 8.61426257e-01]\n",
      " [8.33772194e-01 2.77339370e-02]\n",
      " [5.23189600e-01 4.60379660e-01]\n",
      " [2.65008358e-01 5.98017620e-01]\n",
      " [5.81285338e-01 2.28650297e-01]\n",
      " [5.22104663e-01 7.21589141e-01]\n",
      " [6.01213710e-02 8.40056904e-01]\n",
      " [8.71179961e-01 1.13485206e-01]\n",
      " [5.06820567e-01 5.52548951e-01]\n",
      " [7.12312650e-02 6.10044742e-01]\n",
      " [6.86203491e-01 2.31876880e-01]\n",
      " [7.75153375e-01 5.33161417e-01]]\n",
      "distance:  [[0.19501774768067742, 0.9374540359743524, 0.21108412403979998], [1.278656171086683, 0.16045340631997612, 1.2561838110696772], [0.6065611997006294, 0.5286948255345867, 0.5894301286734422], [0.46380189568552016, 0.9133633775437666, 0.36060900239865284], [1.0365555083678348, 0.14512421072452616, 1.009867817362739], [0.698080053089009, 0.44330827765959985, 0.6750663649647823], [0.08245181885243422, 1.11524906449433, 0.042094298092319585], [1.0589866974963051, 0.3744287654700684, 1.0040854090691416], [0.7463121080699978, 0.41347609731917934, 0.7547818687620257], [0.12393335962036568, 1.117536365930056, 0.0], [1.0984467555766193, 0.03661341084362719, 1.0822283311526975], [0.6123621234546451, 0.5414129012427433, 0.62545727898747], [0.13390101304341936, 1.0597015376938852, 0.05830128739955854], [0.882350057659326, 0.3196956404921592, 0.8448893647201398], [0.8269386951563127, 0.3280124123569824, 0.8297985788383502], [0.0, 1.1324631889664096, 0.12393335962036568], [1.0459287499255974, 0.30053055952539515, 0.9993938573755571], [0.689473864305188, 0.4433903201842284, 0.6815656436753157], [0.40665328709879867, 0.9554516730476386, 0.2995392414353938], [1.0761912577770167, 0.36662722045116836, 1.0220125683054255], [0.7675138381181188, 0.3652027957645403, 0.7540128966027227], [0.27050522256381987, 1.0453407553884908, 0.15453566353409914], [1.1013730238138513, 0.3162934668173794, 1.0524569421283256], [0.7235536084144137, 0.4090965317942455, 0.7107797641524196], [0.4946363606046578, 0.9476483311651538, 0.3848707353639635], [1.13731939352035, 0.24006239657979694, 1.0965505723646742], [0.625784469607593, 0.5599423806697884, 0.6510090897985696], [0.3597239102882082, 0.7840191818648025, 0.3337944036599671], [1.1324631889664096, 0.0, 1.117536365930056], [0.7327430309025645, 0.40086330036700885, 0.7174133174364917], [0.4275080578363766, 0.9812738404234161, 0.3151752416891081], [0.8142659441131855, 0.4181524877562888, 0.7674739174636377], [0.8550893022158202, 0.3005961658429422, 0.8569506016421662], [0.24583799670514433, 0.9010498926478668, 0.289328711416198], [1.0409754577438248, 0.1647168147605899, 1.0111223153961133], [0.6697464846030664, 0.4661476025302575, 0.6514936914875958], [0.4689774655770729, 0.8952523105586888, 0.36867435452742525], [0.896735621882911, 0.38729330056486927, 0.8465103737298088], [0.6013650903634908, 0.543499741878138, 0.5751356951148704], [0.4946990209029776, 0.785307923511267, 0.4151423515505787], [1.0842600989511464, 0.07904423919454595, 1.0626560599533006], [0.6613663495271417, 0.49410692040281196, 0.6725310123827777], [0.06429376134733616, 1.1212795896667933, 0.059690456007580064], [1.1046579814668676, 0.12353352916537266, 1.0766568236087328], [0.7481782253290744, 0.4004581199781351, 0.7518934085161996], [0.03873609178560805, 1.1253259311309942, 0.08521763057939148], [0.9838425300755771, 0.4105370555450173, 0.9262625519587682], [0.4824054031831174, 0.669999811511995, 0.5034053045338612], [0.30560853051304065, 0.9052265793367139, 0.2318906813319686], [1.2059146328848107, 0.16657646805258494, 1.1748696709704256], [0.6188172252825176, 0.6037090604749786, 0.6554893955471088], [0.3652752512023292, 0.9134865978870355, 0.2725219802212964], [1.0251441619541903, 0.21566599278585488, 0.9896286629885714], [0.7290080445930496, 0.4326162048124723, 0.7390761264546264], [0.2756348660441687, 0.856935698681152, 0.27891107808388793], [1.185416329318982, 0.06322339896753937, 1.16650592715531], [0.6038684699625442, 0.5358078060203313, 0.6079956465191284], [0.15587576017695243, 0.9803166448635875, 0.20187724164522908], [0.9028088887128608, 0.2941640971239701, 0.8672690306147316], [0.8259394499025553, 0.308124143060959, 0.8175535536397688], [0.3425308504636455, 0.8364996835953616, 0.28861697874001124], [1.0066464501065238, 0.1289329586789483, 0.9893036413058565], [0.6849672962691692, 0.4989778893116101, 0.7052910508584322], [0.10175312460409532, 1.1500672922953281, 0.04069900338999517], [0.9660651883343427, 0.3664478456742358, 0.9144532819020138], [0.6877513517951224, 0.4486310571354725, 0.6855303899263762], [0.46190523599404665, 0.7417479034541198, 0.4030478562486123], [1.0786825131193254, 0.46663600103291053, 1.0141183681879433], [0.6157359505433667, 0.5327448620236963, 0.5873123242414057], [0.20600395949116204, 0.9533018102308888, 0.16466428504569222], [0.9527054905134682, 0.21960296520726835, 0.9240931139570672], [0.6614598033188519, 0.47363194265920455, 0.6442489741922843], [0.18339754021995192, 0.9973368232063023, 0.12044800467688906], [0.9527867021437606, 0.3626268620214751, 0.9023166014242735], [0.5372868662498211, 0.5956016715985288, 0.5334866360878657], [0.1528394643508316, 0.9860946383725241, 0.14945615720842959], [1.2201698921381583, 0.21663779845075848, 1.18413717866224], [0.688273118875857, 0.4608596050611615, 0.6605344068967868], [0.4323695141645829, 0.753273508056649, 0.37947297739718777], [0.9097734182413474, 0.3389430708520938, 0.8657478270071587], [0.5135469630512568, 0.6353996553770059, 0.5299215502350236], [0.15309640430440677, 1.0565867315093997, 0.06237869784925538], [1.1782891266956912, 0.12308241669696406, 1.1509316745846312], [0.608523079712291, 0.5265820705069216, 0.5916010051315455], [0.38132547722300714, 0.9316571637647602, 0.2814611060403294], [0.9684675803275905, 0.23408193511468534, 0.9350850978055324], [0.8282960806228117, 0.33935524707107, 0.8350944459847066]]\n"
     ]
    }
   ],
   "source": [
    "distance = get_distance(data,medoids)\n",
    "print(\"data: \", data)\n",
    "print(\"distance: \", distance)"
   ]
  },
  {
   "cell_type": "code",
   "execution_count": 442,
   "metadata": {},
   "outputs": [],
   "source": [
    "def swapping_cost(medoid_distances):\n",
    "    summation = 0\n",
    "    for i in medoid_distances:\n",
    "        summation += min(i)\n",
    "    return summation"
   ]
  },
  {
   "cell_type": "code",
   "execution_count": 443,
   "metadata": {},
   "outputs": [
    {
     "name": "stdout",
     "output_type": "stream",
     "text": [
      "26.466602825056242\n"
     ]
    }
   ],
   "source": [
    "print(swapping_cost(distance))"
   ]
  },
  {
   "cell_type": "code",
   "execution_count": 453,
   "metadata": {},
   "outputs": [],
   "source": [
    "def assignment(data):\n",
    "    iteration = 20\n",
    "    distance = get_distance(data,medoids)\n",
    "    cost=swapping_cost(distance)\n",
    "    centroid = medoids.copy()\n",
    "    for iterate in range(iteration):\n",
    "        new_medoid = centroid.copy()\n",
    "\n",
    "        new_med_point = random.choice(new_medoid)\n",
    "        rand_point=random.choice(data)\n",
    "        for i in range(len(new_medoid)):\n",
    "            if np.any(new_medoid[i] == new_med_point):\n",
    "                new_medoid[i] = rand_point\n",
    "\n",
    "        new_distance=get_distance(data,new_medoid)\n",
    "        new_cost= swapping_cost(new_distance)\n",
    "\n",
    "        if new_cost - cost < 0:\n",
    "            cost= new_cost\n",
    "            med = new_medoid.copy()\n",
    "\n",
    "    return med"
   ]
  },
  {
   "cell_type": "code",
   "execution_count": 454,
   "metadata": {},
   "outputs": [
    {
     "name": "stdout",
     "output_type": "stream",
     "text": [
      "[array([0.54860594, 0.50779361]), array([0.92022078, 0.22637577]), array([0.01850393, 0.88652292])]\n"
     ]
    }
   ],
   "source": [
    "print(assignment(data))"
   ]
  },
  {
   "cell_type": "code",
   "execution_count": 446,
   "metadata": {},
   "outputs": [],
   "source": [
    "def get_min(distance):\n",
    "    ind=[]\n",
    "    for i in distance:\n",
    "        ind.append(i.index(min(i)))\n",
    "    return ind"
   ]
  },
  {
   "cell_type": "code",
   "execution_count": 447,
   "metadata": {},
   "outputs": [
    {
     "name": "stdout",
     "output_type": "stream",
     "text": [
      "[0, 1, 1, 2, 1, 1, 2, 1, 1, 2, 1, 1, 2, 1, 1, 0, 1, 1, 2, 1, 1, 2, 1, 1, 2, 1, 1, 2, 1, 1, 2, 1, 1, 0, 1, 1, 2, 1, 1, 2, 1, 1, 2, 1, 1, 0, 1, 0, 2, 1, 1, 2, 1, 1, 0, 1, 1, 0, 1, 1, 2, 1, 1, 2, 1, 1, 2, 1, 1, 2, 1, 1, 2, 1, 2, 2, 1, 1, 2, 1, 0, 2, 1, 1, 2, 1, 1]\n"
     ]
    }
   ],
   "source": [
    "min_indexes = get_min(distance)\n",
    "print(min_indexes)"
   ]
  },
  {
   "cell_type": "code",
   "execution_count": 448,
   "metadata": {},
   "outputs": [],
   "source": [
    "def plot():\n",
    "    fig =plt.figure(figsize=(5,5))\n",
    "    col={0:'red',1:'blue',2:'yellow',3:'green',4:'cyan'}\n",
    "    ax = plt.axes()\n",
    "\n",
    "    for i in range(len(data)):\n",
    "        plt.scatter(data[i][0],data[i][1],color=col[min_indexes[i]])\n",
    "\n",
    "        \n",
    "    plt.show()"
   ]
  },
  {
   "cell_type": "code",
   "execution_count": 449,
   "metadata": {},
   "outputs": [
    {
     "data": {
      "image/png": "[encoded data removed]",
      "text/plain": [
       "<Figure size 360x360 with 1 Axes>"
      ]
     },
     "metadata": {
      "needs_background": "light"
     },
     "output_type": "display_data"
    }
   ],
   "source": [
    "plot()"
   ]
  },
  {
   "cell_type": "code",
   "execution_count": null,
   "metadata": {},
   "outputs": [],
   "source": []
  }
 ],
 "metadata": {
  "kernelspec": {
   "display_name": "Python 3",
   "language": "python",
   "name": "python3"
  },
  "language_info": {
   "codemirror_mode": {
    "name": "ipython",
    "version": 3
   },
   "file_extension": ".py",
   "mimetype": "text/x-python",
   "name": "python",
   "nbconvert_exporter": "python",
   "pygments_lexer": "ipython3",
   "version": "3.6.8"
  }
 },
 "nbformat": 4,
 "nbformat_minor": 2
}
