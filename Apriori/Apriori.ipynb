{
 "cells": [
  {
   "cell_type": "markdown",
   "metadata": {},
   "source": [
    "# Apriori Algorithm Implementation"
   ]
  },
  {
   "cell_type": "code",
   "execution_count": 26,
   "metadata": {},
   "outputs": [],
   "source": [
    "import pandas as pd\n",
    "import numpy as np"
   ]
  },
  {
   "cell_type": "code",
   "execution_count": 84,
   "metadata": {},
   "outputs": [
    {
     "name": "stdout",
     "output_type": "stream",
     "text": [
      "Total number of sets:  4\n",
      "Itemsets:  [['1', '3', '4'], ['2', '3', '5'], ['1', '2', '3', '5'], ['2', '5']]\n",
      "L1.keys :  dict_keys(['1', '3', '2', '5'])\n",
      "L2.keys :  dict_keys([('1', '3'), ('2', '3'), ('3', '5'), ('2', '5')])\n",
      "C1:  {'1': 2, '3': 3, '4': 1, '2': 3, '5': 3}\n",
      "L1 {'1': 2, '3': 3, '2': 3, '5': 3}\n",
      "C2: {('1', '3'): 2, ('1', '2'): 1, ('1', '5'): 1, ('2', '3'): 2, ('3', '5'): 2, ('2', '5'): 3}\n",
      "L2 {('1', '3'): 2, ('2', '3'): 2, ('3', '5'): 2, ('2', '5'): 3}\n",
      "C3:  {('1', '3', '2'): 2, ('1', '3', '3'): 2, ('2', '3', '3'): 2, ('1', '5', '3'): 1, ('2', '5', '3'): 3, ('1', '5', '2'): 1}\n",
      "L3:  {('1', '3', '2'): 2, ('1', '3', '3'): 2, ('2', '3', '3'): 2, ('2', '5', '3'): 3}\n",
      "C4:  {('1', '3', '2'): 2, ('1', '5', '2'): 1}\n",
      "L4:  {('1', '3', '2'): 2}\n"
     ]
    }
   ],
   "source": [
    "min_support = 0.5\n",
    "min_confidence = 0.8 \n",
    "def initial_count(itemsets):\n",
    "    adict = {}\n",
    "    for t in itemsets:\n",
    "        for item in t:\n",
    "            if item in adict:\n",
    "                adict[item] += 1\n",
    "            else:\n",
    "                adict[item] = 1\n",
    "    return adict \n",
    "def frequent_items(candidate, min_support, total_no_of_set):\n",
    "    adict={}\n",
    "    for key in candidate:\n",
    "        if ((float)(candidate[key]/total_no_of_set)) >= min_support:\n",
    "            adict[key] = candidate[key]   \n",
    "    return adict \n",
    "def generate_candidates(keys):\n",
    "    adict={}\n",
    "    for i in keys:\n",
    "        for j in keys:\n",
    "            if i != j and (j,i) not in adict:\n",
    "                adict[tuple([min(i,j),max(i,j)])] = 0\n",
    "    return adict \n",
    "def generate_candidates_l3(keys):\n",
    "    adict={}\n",
    "    \n",
    "    for i in keys:\n",
    "        for j in keys:\n",
    "            if i[0] != j[0] and (j[0],i[0]) not in adict:\n",
    "                adict[tuple([min(i[0],j[0]),max(i[1],j[0]),max(i[0],j[0])])] = 0\n",
    "    return adict  \n",
    "\n",
    "\n",
    "def add_frequency(candidate, itemsets):\n",
    "    for key in candidate:\n",
    "        for t in itemsets:\n",
    "            if key[0] in t and key[1] in t:\n",
    "                candidate[key] += 1\n",
    "    return candidate \n",
    "\n",
    "\n",
    "f = open(\"apriori.txt\",\"r\")\n",
    "itemsets = []\n",
    "total_no_of_set=0 \n",
    "for line in f:\n",
    "    split_line = line.split()\n",
    "    itemsets.append(split_line)\n",
    "    total_no_of_set = total_no_of_set + 1 \n",
    "print(\"Total number of sets: \", total_no_of_set) \n",
    "print(\"Itemsets: \", itemsets)\n",
    "#First iteration\n",
    "C1 = initial_count(itemsets)\n",
    "L1 = frequent_items(C1,min_support,total_no_of_set)\n",
    "print(\"L1.keys : \", L1.keys())\n",
    "\n",
    "#Second iteration\n",
    "C2 = generate_candidates(L1.keys())\n",
    "C2 = add_frequency(C2,itemsets)\n",
    "L2 = frequent_items(C2,min_support,total_no_of_set)\n",
    "print(\"L2.keys : \", L2.keys())\n",
    "\n",
    "#Third iteration\n",
    "C3 = generate_candidates_l3(L2.keys())\n",
    "C3 = add_frequency(C3,itemsets)\n",
    "L3 = frequent_items(C3,min_support,total_no_of_set)\n",
    "\n",
    "\n",
    "#Fourth\n",
    "C4 = generate_candidates_l3(L3.keys())\n",
    "C4 = add_frequency(C4,itemsets)\n",
    "L4 = frequent_items(C4,min_support,total_no_of_set)\n",
    "\n",
    "\n",
    "print(\"C1: \", C1)\n",
    "print(\"L1\", L1)\n",
    "\n",
    "print(\"C2:\", C2)\n",
    "print(\"L2\",L2)\n",
    "\n",
    "print(\"C3: \", C3)\n",
    "print(\"L3: \", L3)\n",
    "\n",
    "print(\"C4: \", C4)\n",
    "print(\"L4: \", L4)"
   ]
  },
  {
   "cell_type": "code",
   "execution_count": null,
   "metadata": {},
   "outputs": [],
   "source": []
  }
 ],
 "metadata": {
  "kernelspec": {
   "display_name": "Python 3",
   "language": "python",
   "name": "python3"
  },
  "language_info": {
   "codemirror_mode": {
    "name": "ipython",
    "version": 3
   },
   "file_extension": ".py",
   "mimetype": "text/x-python",
   "name": "python",
   "nbconvert_exporter": "python",
   "pygments_lexer": "ipython3",
   "version": "3.6.8"
  }
 },
 "nbformat": 4,
 "nbformat_minor": 2
}