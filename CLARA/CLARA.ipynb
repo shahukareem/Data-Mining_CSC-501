{
 "cells": [
  {
   "cell_type": "markdown",
   "metadata": {},
   "source": [
    "# Implementing CLARA"
   ]
  },
  {
   "cell_type": "code",
   "execution_count": 22,
   "metadata": {},
   "outputs": [],
   "source": [
    "import pandas as pd\n",
    "import numpy as np\n",
    "import matplotlib.pyplot as plt\n",
    "%matplotlib inline\n",
    "import copy\n",
    "import random"
   ]
  },
  {
   "cell_type": "code",
   "execution_count": 23,
   "metadata": {},
   "outputs": [],
   "source": [
    "#LOADING DATA\n",
    "df = pd.read_csv('IPL.csv')\n",
    "df = df.rename(columns={\"one\": \"x\", \"two\": \"y\"})"
   ]
  },
  {
   "cell_type": "code",
   "execution_count": 24,
   "metadata": {},
   "outputs": [
    {
     "name": "stdout",
     "output_type": "stream",
     "text": [
      "[[0.97918822 0.07715065]\n",
      " [0.50457661 0.55311441]\n",
      " [0.0581324  0.52809798]\n",
      " [0.77534302 0.21792169]\n",
      " [0.55042383 0.47085982]]\n"
     ]
    }
   ],
   "source": [
    "#DATAFRAME TO LIST\n",
    "data = df.values\n",
    "\n",
    "#DISPLAYING TOP ROWS\n",
    "rows = data[1:6, :]\n",
    "print(rows)"
   ]
  },
  {
   "cell_type": "code",
   "execution_count": 25,
   "metadata": {},
   "outputs": [
    {
     "data": {
      "image/png": "[encoded data removed]",
      "text/plain": [
       "<Figure size 432x288 with 1 Axes>"
      ]
     },
     "metadata": {
      "needs_background": "light"
     },
     "output_type": "display_data"
    }
   ],
   "source": [
    "#INITIAL PLOT\n",
    "plt.scatter(*zip(*data)) \n",
    "plt.show()"
   ]
  },
  {
   "cell_type": "code",
   "execution_count": 39,
   "metadata": {},
   "outputs": [],
   "source": [
    "medoids = list()\n",
    "k = 3\n",
    "iterations = 40\n",
    "used_ids = set()\n",
    "def initialization():\n",
    "    np.random.seed(20)\n",
    "\n",
    "    for i in range(k):\n",
    "        rand_items = np.random.randint(len(sample))\n",
    "        while rand_items in used_ids:\n",
    "            rand_items = np.random.randint(len(sample))\n",
    "        used_ids.add(rand_items)\n",
    "        medoids.append(data[rand_items])\n",
    "\n",
    "    print(\"medoids: \", medoids)\n",
    "\n",
    "    return medoids"
   ]
  },
  {
   "cell_type": "code",
   "execution_count": 40,
   "metadata": {},
   "outputs": [
    {
     "name": "stdout",
     "output_type": "stream",
     "text": [
      "medoids:  [array([0.0581324 , 0.52809798]), array([0.50457661, 0.55311441]), array([0.77534302, 0.21792169])]\n"
     ]
    },
    {
     "data": {
      "text/plain": [
       "[array([0.0581324 , 0.52809798]),\n",
       " array([0.50457661, 0.55311441]),\n",
       " array([0.77534302, 0.21792169])]"
      ]
     },
     "execution_count": 40,
     "metadata": {},
     "output_type": "execute_result"
    }
   ],
   "source": [
    "initialization()"
   ]
  },
  {
   "cell_type": "code",
   "execution_count": 30,
   "metadata": {},
   "outputs": [],
   "source": [
    "def euclidean_distance(x1, x2, y1, y2):\n",
    "\n",
    "    squared_distance = 0\n",
    "\n",
    "    squared_distance = (x1 - x2)**2 + (y1 - y2)**2\n",
    "\n",
    "    ed = np.sqrt(squared_distance)\n",
    "\n",
    "    return ed;"
   ]
  },
  {
   "cell_type": "code",
   "execution_count": 31,
   "metadata": {},
   "outputs": [],
   "source": [
    "def get_distance(data,medoids):\n",
    "    distance = []\n",
    "    for i in data:\n",
    "        d2=[]\n",
    "        for j in medoids:\n",
    "            dis= Euclidean_distance(i[0],j[0],i[1],j[1])\n",
    "            d2.append(dis)\n",
    "        distance.append(d2)\n",
    "    return distance"
   ]
  },
  {
   "cell_type": "code",
   "execution_count": 32,
   "metadata": {},
   "outputs": [
    {
     "name": "stdout",
     "output_type": "stream",
     "text": [
      "data:  [[2.27679824e-01 8.58204148e-01]\n",
      " [9.79188216e-01 7.71506500e-02]\n",
      " [5.04576605e-01 5.53114414e-01]\n",
      " [5.81324010e-02 5.28097980e-01]\n",
      " [7.75343018e-01 2.17921690e-01]\n",
      " [5.50423831e-01 4.70859815e-01]\n",
      " [4.57865400e-02 9.18578950e-01]\n",
      " [5.85769942e-01 5.80322550e-02]\n",
      " [7.09072174e-01 5.81873662e-01]\n",
      " [1.85039300e-02 8.86522919e-01]\n",
      " [8.86065074e-01 2.39564016e-01]\n",
      " [6.03638732e-01 6.65583852e-01]\n",
      " [6.94229840e-02 8.58127672e-01]\n",
      " [6.04738741e-01 2.78109585e-01]\n",
      " [7.58989122e-01 5.12026775e-01]\n",
      " [8.49750790e-02 9.91122460e-01]\n",
      " [6.44285855e-01 1.07302113e-01]\n",
      " [6.03312586e-01 5.36479261e-01]\n",
      " [3.56326820e-02 5.87473821e-01]\n",
      " [6.00717946e-01 4.65607000e-02]\n",
      " [6.43430505e-01 4.64619821e-01]\n",
      " [5.59105700e-03 7.32527695e-01]\n",
      " [6.57500448e-01 5.02519910e-02]\n",
      " [6.11905662e-01 4.95265641e-01]\n",
      " [1.34451980e-02 5.01685431e-01]\n",
      " [7.43527346e-01 6.38661230e-02]\n",
      " [6.46466202e-01 7.14836519e-01]\n",
      " [2.94408193e-01 6.98651842e-01]\n",
      " [9.20220777e-01 2.26375771e-01]\n",
      " [6.08679544e-01 4.78632477e-01]\n",
      " [1.75185800e-03 5.71793192e-01]\n",
      " [5.07775850e-01 2.95228405e-01]\n",
      " [7.79137492e-01 4.91806669e-01]\n",
      " [3.07831495e-01 8.87337401e-01]\n",
      " [7.58128996e-01 1.97086121e-01]\n",
      " [5.48605936e-01 5.07793605e-01]\n",
      " [7.52723310e-02 5.22245376e-01]\n",
      " [5.33112866e-01 2.14393872e-01]\n",
      " [4.67501493e-01 5.27103587e-01]\n",
      " [1.86767816e-01 5.07009498e-01]\n",
      " [8.42013242e-01 2.14905234e-01]\n",
      " [6.42154431e-01 6.34812738e-01]\n",
      " [5.20019370e-02 9.35927717e-01]\n",
      " [8.14834830e-01 1.61921640e-01]\n",
      " [6.94379968e-01 5.57075990e-01]\n",
      " [6.50855410e-02 9.57882558e-01]\n",
      " [5.26030561e-01 1.11681623e-01]\n",
      " [5.03278060e-01 7.50835987e-01]\n",
      " [1.43422603e-01 6.91155027e-01]\n",
      " [8.63144558e-01 6.98828800e-02]\n",
      " [6.64099053e-01 7.73062420e-01]\n",
      " [9.88377820e-02 6.26110358e-01]\n",
      " [7.09934617e-01 1.78505620e-01]\n",
      " [6.99001263e-01 5.98153537e-01]\n",
      " [2.83690007e-01 8.00106867e-01]\n",
      " [9.35025063e-01 1.64910079e-01]\n",
      " [5.71004309e-01 6.32747354e-01]\n",
      " [2.18856080e-01 9.11290573e-01]\n",
      " [6.29458379e-01 2.70982317e-01]\n",
      " [7.11909883e-01 4.53415545e-01]\n",
      " [2.13261076e-01 6.73521946e-01]\n",
      " [8.09229279e-01 2.91985185e-01]\n",
      " [6.89320776e-01 6.68715147e-01]\n",
      " [7.12644000e-03 9.25599275e-01]\n",
      " [5.61642009e-01 1.50842396e-01]\n",
      " [6.22206026e-01 5.61721911e-01]\n",
      " [2.59486565e-01 5.63451806e-01]\n",
      " [5.11887182e-01 5.15565000e-04]\n",
      " [4.69270639e-01 5.10032361e-01]\n",
      " [1.57558520e-01 7.98329111e-01]\n",
      " [7.04470781e-01 2.67331864e-01]\n",
      " [5.46318151e-01 5.17105961e-01]\n",
      " [1.11196965e-01 8.09609181e-01]\n",
      " [5.62543790e-01 1.66664683e-01]\n",
      " [4.91551999e-01 6.39878407e-01]\n",
      " [1.65837906e-01 8.61426257e-01]\n",
      " [8.33772194e-01 2.77339370e-02]\n",
      " [5.23189600e-01 4.60379660e-01]\n",
      " [2.65008358e-01 5.98017620e-01]\n",
      " [5.81285338e-01 2.28650297e-01]\n",
      " [5.22104663e-01 7.21589141e-01]\n",
      " [6.01213710e-02 8.40056904e-01]\n",
      " [8.71179961e-01 1.13485206e-01]\n",
      " [5.06820567e-01 5.52548951e-01]\n",
      " [7.12312650e-02 6.10044742e-01]\n",
      " [6.86203491e-01 2.31876880e-01]\n",
      " [7.75153375e-01 5.33161417e-01]]\n",
      "distance:  [[0.3711016178859709, 0.4120091905775316, 0.8425536185221705], [1.0255229440531515, 0.672158973708648, 0.24772838038937084], [0.44714455073865095, 0.0, 0.4308928087487962], [0.0, 0.44714455073865095, 0.7814092397813611], [0.7814092397813611, 0.4308928087487962, 0.0], [0.4956077678810252, 0.09416892899755135, 0.33847649218115067], [0.39067609117525004, 0.5865600146757359, 1.0115202670151855], [0.7066563241720138, 0.5016958263064352, 0.24799714225918207], [0.6531572644071693, 0.20650794678694406, 0.3699362954444469], [0.36060900239865284, 0.5894301286734422, 1.009867817362739], [0.8767692737559171, 0.4938089752788241, 0.11281739209695209], [0.5625651270392452, 0.14987554667056266, 0.47946196211720904], [0.33022276551760454, 0.5314054585955872, 0.9529883492420804], [0.6010596381082927, 0.2926774836939147, 0.18090992796202127], [0.7010409595744203, 0.25770898875450504, 0.29455941834753147], [0.46380189568552016, 0.6065611997006294, 1.0365555083678348], [0.7215573666177983, 0.467190841368361, 0.17150122678647953], [0.5452446056476261, 0.10012752997735325, 0.36204059934698846], [0.06349588844591629, 0.4702009908199063, 0.8268858196340496], [0.725449671357528, 0.5155965696321805, 0.24465997765222092], [0.5887302839297671, 0.16465630426875744, 0.27975145920060596], [0.2110736866696263, 0.5302600329197414, 0.925925170759174], [0.7665369168983203, 0.5256009115510736, 0.2049390135307465], [0.5547456958668405, 0.12192623595483779, 0.3219183692996737], [0.051909236717954256, 0.4938167668621773, 0.8130253063878562], [0.8278148631700335, 0.5444826414780086, 0.15730656282718491], [0.6172584088912538, 0.2151434335099575, 0.5133552191050532], [0.2914015609572851, 0.25564018532198135, 0.6799998418674256], [0.9133633775437666, 0.5286948255345867, 0.14512421072452616], [0.5527648619915212, 0.12800383137902424, 0.30942984346036834], [0.07133047862379584, 0.5031715641241934, 0.8506869710756604], [0.506366932361599, 0.2579058526022976, 0.27851125215264], [0.7219178627115533, 0.2813224489215388, 0.2739112625555348], [0.4374958275742022, 0.3878319782433035, 0.8165074514488002], [0.7743152354243263, 0.43708690257008465, 0.027026718057696995], [0.49089363020876203, 0.06318668939517269, 0.3680155315467568], [0.01811160329693967, 0.4304126591792028, 0.7633556658971482], [0.5692246564474275, 0.3399204668222169, 0.2422558400488711], [0.40937029973160355, 0.04528937017707874, 0.436302475293052], [0.13035257598255032, 0.3211356250013591, 0.6557381559308453], [0.8441320210926061, 0.47775405118757724, 0.06673842802321708], [0.5936916464801569, 0.1600071071899472, 0.43764979790877867], [0.4078758107198127, 0.5927645865510861, 1.0191932958328234], [0.8406447989670165, 0.4992914505676676, 0.06852451251228169], [0.6369071294757028, 0.18984470150761001, 0.3486841761161416], [0.4298408189580158, 0.5974861050543827, 1.025674300061047], [0.6263635290376803, 0.4419538224725515, 0.27100489488483653], [0.4977618682551691, 0.19772583707930375, 0.5983452091548374], [0.18401635561427962, 0.38663603556579124, 0.7894765367899972], [0.926285944396115, 0.601733904953513, 0.17211798189784738], [0.6536078030444578, 0.2717067109205968, 0.5661770481517722], [0.1061289512035714, 0.4122528354418881, 0.7901122217881645], [0.7396356852889673, 0.4272044728636704, 0.07636678267166744], [0.644686496948521, 0.1995732202451674, 0.38781995955534765], [0.3533625167323637, 0.33135503770875563, 0.7620119838584478], [0.9491291756669542, 0.5796451334285228, 0.16825155689085722], [0.5234396674824638, 0.10370171161439538, 0.4624225767724015], [0.41553419151901166, 0.45817723566570706, 0.8890658693692405], [0.6265156321254771, 0.308535212957945, 0.15523452590771625], [0.6580292258462307, 0.23005858524755046, 0.2438875116907162], [0.2126335714190607, 0.3152185134139187, 0.7235383215765124], [0.7873345998392673, 0.4012502037550694, 0.08144740619673013], [0.6466621624853633, 0.21793103998424485, 0.4589276271839792], [0.40076038674526027, 0.6214512356836348, 1.0444923527845775], [0.6291611089438814, 0.40629944228299836, 0.22398159060770265], [0.5650748827868156, 0.11794392603860633, 0.3763635613053645], [0.2044343228838474, 0.2453079480582789, 0.6208856103701508], [0.6958711129926217, 0.5526472043285822, 0.3415763468245049], [0.41153495275079344, 0.05570075875504711, 0.42309448743606887], [0.28794169080030996, 0.4249138723810615, 0.8476617605631287], [0.6969593020505214, 0.34875399278462954, 0.08639582902023941], [0.4883094827921724, 0.05512681153416473, 0.37678059626016985], [0.28646885387590126, 0.4696137845771926, 0.8894852819026033], [0.6205359599033722, 0.39077306602016026, 0.21888534031312834], [0.4476018451601645, 0.08773614330912485, 0.5085123533273075], [0.3502973252182977, 0.4580394074031942, 0.8863377512573805], [0.9230283115985061, 0.6199954688784463, 0.19896067450435526], [0.4699616678042454, 0.09458423855120113, 0.3498102534597916], [0.21837219979291195, 0.24374011339894683, 0.6363288310299011], [0.6027917636678477, 0.33340844761201677, 0.1943540227912529], [0.5027017896233558, 0.16938407969752026, 0.5637468985634806], [0.31196526451657847, 0.5290335032844281, 0.9479421020485472], [0.9126609924752611, 0.5724262932091518, 0.1417451898085699], [0.44935389203976683, 0.0023141118948341436, 0.4290451147553244], [0.08298705947540948, 0.4370689258525515, 0.8059366281678279], [0.6944207904282518, 0.36902829020070815, 0.09022528803899625], [0.7170388521901457, 0.27131146410152834, 0.31523978404303926]]\n"
     ]
    }
   ],
   "source": [
    "distance = get_distance(data,medoids)\n",
    "print(\"data: \", data)\n",
    "print(\"distance: \", distance)"
   ]
  },
  {
   "cell_type": "code",
   "execution_count": 33,
   "metadata": {},
   "outputs": [],
   "source": [
    "def swapping_cost(medoid_distances):\n",
    "    summation = 0\n",
    "    for i in medoid_distances:\n",
    "        summation += min(i)\n",
    "    return summation"
   ]
  },
  {
   "cell_type": "code",
   "execution_count": 34,
   "metadata": {},
   "outputs": [
    {
     "name": "stdout",
     "output_type": "stream",
     "text": [
      "16.37790797834566\n"
     ]
    }
   ],
   "source": [
    "print(swapping_cost(distance))"
   ]
  },
  {
   "cell_type": "code",
   "execution_count": 37,
   "metadata": {},
   "outputs": [],
   "source": [
    "def get_min(distance):\n",
    "    ind=[]\n",
    "    for i in distance:\n",
    "        ind.append(i.index(min(i)))\n",
    "    return ind"
   ]
  },
  {
   "cell_type": "code",
   "execution_count": 38,
   "metadata": {},
   "outputs": [
    {
     "name": "stdout",
     "output_type": "stream",
     "text": [
      "[0, 2, 1, 0, 2, 1, 0, 2, 1, 0, 2, 1, 0, 2, 1, 0, 2, 1, 0, 2, 1, 0, 2, 1, 0, 2, 1, 1, 2, 1, 0, 1, 2, 1, 2, 1, 0, 2, 1, 0, 2, 1, 0, 2, 1, 0, 2, 1, 0, 2, 1, 0, 2, 1, 1, 2, 1, 0, 2, 1, 0, 2, 1, 0, 2, 1, 0, 2, 1, 0, 2, 1, 0, 2, 1, 0, 2, 1, 0, 2, 1, 0, 2, 1, 0, 2, 1]\n"
     ]
    }
   ],
   "source": [
    "min_indexes = get_min(distance)\n",
    "print(min_indexes)"
   ]
  },
  {
   "cell_type": "code",
   "execution_count": 74,
   "metadata": {},
   "outputs": [],
   "source": [
    "def generate_medoids(data):\n",
    "    iteration = 20\n",
    "    distance = get_distance(data,medoids)\n",
    "    cost=swapping_cost(distance)\n",
    "    med = medoids.copy()\n",
    "    for iterate in range(iteration):\n",
    "        new_medoid = med.copy()\n",
    "\n",
    "        new_med_point = random.choice(new_medoid)\n",
    "        rand_point=random.choice(data)\n",
    "        for i in range(len(new_medoid)):\n",
    "            if np.any(new_medoid[i] == new_med_point):\n",
    "                new_medoid[i] = rand_point\n",
    "\n",
    "        new_distance=get_distance(data,new_medoid)\n",
    "        new_cost= swapping_cost(new_distance)\n",
    "\n",
    "        if new_cost - cost < 0:\n",
    "            cost= new_cost\n",
    "            med = new_medoid.copy()\n",
    "\n",
    "    return med,cost"
   ]
  },
  {
   "cell_type": "code",
   "execution_count": 75,
   "metadata": {},
   "outputs": [
    {
     "name": "stdout",
     "output_type": "stream",
     "text": [
      "([array([0.28369001, 0.80010687]), array([0.60331259, 0.53647926]), array([0.758129  , 0.19708612])], 14.681805942185587)\n"
     ]
    }
   ],
   "source": [
    "print(generate_medoids(data))"
   ]
  },
  {
   "cell_type": "code",
   "execution_count": 90,
   "metadata": {},
   "outputs": [],
   "source": [
    "def clara_pam(k,sample_size,data,iteration):\n",
    "    costs=[]\n",
    "    indexs=[]\n",
    "    max_iter=40\n",
    "    for i in range(max_iter):\n",
    "        randpoints=[]\n",
    "        for i in range(sample_size):\n",
    "            randp=random.choice(data)\n",
    "            if len(randpoints) > 1:\n",
    "                if np.any(randp not in randpoints):\n",
    "                    randpoints.append(randp)\n",
    "\n",
    "        index1,cost= generate_medoids(data)\n",
    "        costs.append(cost)\n",
    "        indexs.append(index1)\n",
    "\n",
    "    mincost=min(costs)\n",
    "    cos = costs.index(mincost)\n",
    "    ind = indexs[cos]\n",
    "    distance = get_distance(data,ind)\n",
    "    ind= get_min(distance)\n",
    "    return ind"
   ]
  },
  {
   "cell_type": "code",
   "execution_count": 91,
   "metadata": {},
   "outputs": [
    {
     "name": "stdout",
     "output_type": "stream",
     "text": [
      "ind:  [0, 2, 1, 0, 2, 1, 0, 2, 1, 0, 2, 1, 0, 2, 1, 0, 2, 1, 0, 2, 1, 0, 2, 1, 0, 2, 1, 0, 2, 1, 0, 1, 1, 0, 2, 1, 0, 2, 1, 0, 2, 1, 0, 2, 1, 0, 2, 1, 0, 2, 1, 0, 2, 1, 0, 2, 1, 0, 2, 1, 0, 2, 1, 0, 2, 1, 0, 2, 1, 0, 2, 1, 0, 2, 1, 0, 2, 1, 0, 2, 1, 0, 2, 1, 0, 2, 1]\n"
     ]
    }
   ],
   "source": [
    "k = 3\n",
    "sample_size = 20\n",
    "iteration = 40\n",
    "ind = clara_pam(k,sample_size,data,iteration)\n",
    "print(\"ind: \", ind)"
   ]
  },
  {
   "cell_type": "code",
   "execution_count": 93,
   "metadata": {},
   "outputs": [],
   "source": [
    "def plot():\n",
    "    fig =plt.figure(figsize=(5,5))\n",
    "    col={0:'red',1:'blue',2:'yellow',3:'green',4:'cyan'}\n",
    "\n",
    "    for i in range(len(data)):\n",
    "        plt.scatter(data[i][0],data[i][1],color=col[ind[i]])\n",
    "\n",
    "    plt.show()"
   ]
  },
  {
   "cell_type": "code",
   "execution_count": 94,
   "metadata": {},
   "outputs": [
    {
     "data": {
      "image/png": "[encoded data removed]",
      "text/plain": [
       "<Figure size 360x360 with 1 Axes>"
      ]
     },
     "metadata": {
      "needs_background": "light"
     },
     "output_type": "display_data"
    }
   ],
   "source": [
    "plot()"
   ]
  },
  {
   "cell_type": "code",
   "execution_count": null,
   "metadata": {},
   "outputs": [],
   "source": []
  }
 ],
 "metadata": {
  "kernelspec": {
   "display_name": "Python 3",
   "language": "python",
   "name": "python3"
  },
  "language_info": {
   "codemirror_mode": {
    "name": "ipython",
    "version": 3
   },
   "file_extension": ".py",
   "mimetype": "text/x-python",
   "name": "python",
   "nbconvert_exporter": "python",
   "pygments_lexer": "ipython3",
   "version": "3.6.8"
  }
 },
 "nbformat": 4,
 "nbformat_minor": 2
}